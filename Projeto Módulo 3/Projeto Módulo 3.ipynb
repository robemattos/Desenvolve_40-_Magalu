{
 "cells": [
  {
   "cell_type": "markdown",
   "metadata": {},
   "source": [
    "## Projeto Módulo 3\n",
    "\n",
    "Você irá receber uma lista bi-dimensional com altura e largura não necessáriamente iguais contendo apenas 0's e 1's. Cada 1 representa um pedaço de rio, enquanto os 0's representam terra. Rios são compostos por 1's adjacentes horizontalmente ou verticalmente (mas não diagonalmente). O número de 1's adjacentes representa o tamanho do rio.\n",
    "\n",
    "Note que o rio pode fazer curvas, isto é, rios podem ter formato de L ou até mesmo de cruz e são considerados um rio só.\n",
    "\n",
    "Crie um algoritmo que receba esta lista bi-dimensional e retorne uma lista com os tamanhos dos rios dentro dessa estrutura, os tamanhos de rios dentro da lista resposta não precisam ter uma ordem específica.\n",
    "\n",
    "**Exemplo de entrada:**\n",
    "\n",
    "```python\n",
    "matrix = [\n",
    "    [1, 0, 0, 1, 0],\n",
    "    [1, 0, 1, 0, 0],\n",
    "    [0, 0, 1, 0, 1],\n",
    "    [1, 0, 1, 0, 1],\n",
    "    [1, 0, 1, 1, 0],\n",
    "]\n",
    "```\n",
    "\n",
    "**Saída esperada:**\n",
    "\n",
    "```python\n",
    "[1, 2, 2, 2, 5] # Note que os números poderiam estar em qualquer ordem dentro da lista\n",
    "```\n",
    "\n",
    "podemos visualizar os rios claramente na seguinte estrutura:\n",
    "\n",
    "```python\n",
    "[1,  ,  , 1,  ]\n",
    "[1,  , 1,  ,  ]\n",
    "[ ,  , 1,  , 1]\n",
    "[1,  , 1,  , 1]\n",
    "[1,  , 1, 1,  ]\n",
    "```"
   ]
  },
  {
   "cell_type": "code",
   "execution_count": 37,
   "metadata": {},
   "outputs": [],
   "source": [
    "matrix = [\n",
    "    [1, 0, 1, 1, 1, 1],\n",
    "    [1, 0, 0, 1, 1, 1],\n",
    "    [1, 1, 1, 0, 0, 0],\n",
    "    [1, 1, 1, 1, 1, 1],\n",
    "    [1, 1, 1, 0, 1, 1]\n",
    "]"
   ]
  },
  {
   "cell_type": "code",
   "execution_count": 38,
   "metadata": {},
   "outputs": [],
   "source": [
    "matriz = matrix[:]"
   ]
  },
  {
   "cell_type": "code",
   "execution_count": 39,
   "metadata": {},
   "outputs": [
    {
     "data": {
      "text/plain": [
       "[[1, 0, 1, 1, 1, 1],\n",
       " [1, 0, 0, 1, 1, 1],\n",
       " [1, 1, 1, 0, 0, 0],\n",
       " [1, 1, 1, 1, 1, 1],\n",
       " [1, 1, 1, 0, 1, 1]]"
      ]
     },
     "execution_count": 39,
     "metadata": {},
     "output_type": "execute_result"
    }
   ],
   "source": [
    "matriz"
   ]
  },
  {
   "cell_type": "code",
   "execution_count": 23,
   "metadata": {},
   "outputs": [
    {
     "name": "stdout",
     "output_type": "stream",
     "text": [
      "[8, 1, 8]\n",
      "[[0, 0, 0, 0, 0], [0, 0, 0, 0, 0], [0, 0, 0, 0, 0], [0, 0, 0, 0, 0], [0, 0, 0, 0, 0]]\n"
     ]
    },
    {
     "data": {
      "text/plain": [
       "[[1, 0, 1, 0, 1],\n",
       " [1, 0, 0, 1, 1],\n",
       " [1, 1, 0, 1, 1],\n",
       " [1, 1, 0, 1, 1],\n",
       " [1, 1, 0, 0, 1]]"
      ]
     },
     "execution_count": 23,
     "metadata": {},
     "output_type": "execute_result"
    }
   ],
   "source": [
    "cont_tam_rio = 0\n",
    "cont = 0\n",
    "rios = []\n",
    "\n",
    "matrix = [\n",
    "    [1, 0, 1, 0, 1],\n",
    "    [1, 0, 0, 1, 1],\n",
    "    [1, 1, 0, 1, 1],\n",
    "    [1, 1, 0, 1, 1],\n",
    "    [1, 1, 0, 0, 1]\n",
    "]\n",
    "\n",
    "matriz = [linha.copy() for linha in matrix]\n",
    "\n",
    "#matriz = [linha.copy() for linha in matriz_original]\n",
    "\n",
    "matriz\n",
    "\n",
    "def acha_rio(lin, col):\n",
    "   # print(rios)\n",
    "    global cont\n",
    "    matriz[lin][col] = 0\n",
    "    cont += 1\n",
    "    \n",
    "    if lin == len(matriz) - 1: #Verifica se está na última linha da matriz\n",
    "        if not col == len(matriz[lin])-1: #Verifica se não está na última coluna da linha\n",
    "            if matriz[lin][col + 1] == 1: #Verifica se a coluna à direita da atual contém o valor 1\n",
    "                acha_rio(lin, col + 1) #Se sim, chama a função passando por parâmetro a linha atual e a coluna à direita da atual\n",
    "        if not col == 0: #Verifica se não é a primeira coluna da linha\n",
    "            if matriz[lin][col - 1] == 1: #Se não for, verifica se a coluna à esquerda da coluna atual contém o valor 1\n",
    "                acha_rio(lin, col - 1) #Se sim, chama a função passando por parâmetro linha atual e a coluna anterior à atual\n",
    "        if matriz[lin - 1][col] == 1: #Verifica se a coluna atual da linha anterior contém o valor 1\n",
    "            acha_rio(lin - 1, col) #Se sim, chama a função passando por parâmetro a linha anterior e a coluna atual\n",
    "    \n",
    "    elif lin == 0: #Verifica se está na primeira linha da matriz\n",
    "        if not col == len(matriz[lin])-1: #Verifica se não está na última coluna da linha\n",
    "            if matriz[lin][col + 1] == 1: #Verifica se a coluna à direita da atual contém o valor 1\n",
    "                acha_rio(lin, col + 1) #Se sim, chama a função passando por parâmetro a linha atual e a coluna à direita da atual\n",
    "        if not col == 0: #Verifica se não é a primeira coluna da linha\n",
    "            if matriz[lin][col - 1] == 1: #Se não for, verifica se a coluna à esquerda da coluna atual contém o valor 1\n",
    "                acha_rio(lin, col - 1) #Se sim, chama a função passando por parâmetro linha atual e a coluna anterior à atual\n",
    "        if matriz[lin + 1][col] == 1: #Verifica se a coluna atual da próxima linha contém o valor 1\n",
    "            acha_rio(lin + 1, col) #Se sim, chama a função passando por parâmetro a próxima linha e a coluna atual\n",
    "    \n",
    "    elif col == len(matriz[lin]) - 1: #Verifica se está na última coluna da matriz\n",
    "        if matriz[lin][col - 1] == 1: #Se sim, verifica se a coluna à esquerda contém o valor 1\n",
    "            acha_rio(lin, col - 1) #Se sim, chama a função passando por parâmetro linha atual e a coluna anterior à atual\n",
    "        if matriz[lin - 1][col] == 1: #Verifica se a coluna atual da linha anterior contém o valor 1\n",
    "            acha_rio(lin - 1, col) #Se sim, chama a função passando por parâmetro a linha anterior e a coluna atual\n",
    "        if matriz[lin + 1][col] == 1: #Verifica se a coluna atual da próxima linha contém o valor 1\n",
    "            acha_rio(lin + 1, col) #Se sim, chama a função passando por parâmetro a próxima linha e a coluna atual\n",
    "    \n",
    "    elif col == 0: #Verifica se está na primeira coluna da matriz\n",
    "        if matriz[lin + 1][col] == 1: #Verifica se a coluna atual da próxima linha contém o valor 1\n",
    "            acha_rio(lin + 1, col) #Se sim, chama a função passando por parâmetro a próxima linha e a coluna atual\n",
    "        if matriz[lin - 1][col] == 1: #Verifica se a coluna atual da linha anterior contém o valor 1\n",
    "            acha_rio(lin - 1, col) #Se sim, chama a função passando por parâmetro a linha anterior e a coluna atual\n",
    "        if matriz[lin][col + 1] == 1: #Verifica se a coluna à direita da atual contém o valor 1\n",
    "            acha_rio(lin, col + 1) #Se sim, chama a função passando por parâmetro a linha atual e a coluna à direita da atual\n",
    "    \n",
    "    else: #Verifica se os valores das linhas e colunas intermediárias contém o valor 1 chamando a função toda vez que o valor é localizado\n",
    "        if matriz[lin][col + 1] == 1:\n",
    "            acha_rio(lin, col + 1)\n",
    "        if matriz[lin + 1][col] == 1:\n",
    "            acha_rio(lin + 1, col)\n",
    "        if matriz[lin][col - 1] == 1:\n",
    "            acha_rio(lin, col - 1)\n",
    "        if matriz[lin - 1][col] == 1:\n",
    "            acha_rio(lin - 1, col)\n",
    "\n",
    "for linha in range(len(matriz)): #Faz a verredura das linhas da matriz\n",
    "    for coluna in range(len(matriz[linha])): #Faz a verredura das colunas da matriz\n",
    "        if matriz[linha][coluna] == 1:\n",
    "            #if not (linha == len(matriz) - 1 and coluna == len(matriz[linha]) - 1):\n",
    "            acha_rio(linha, coluna)\n",
    "            rios.append(cont)\n",
    "            cont = 0\n",
    "\n",
    "\n",
    "print(rios)\n",
    "\n",
    "print(matriz)\n",
    "\n",
    "matrix"
   ]
  }
 ],
 "metadata": {
  "kernelspec": {
   "display_name": "Python 3 (ipykernel)",
   "language": "python",
   "name": "python3"
  },
  "language_info": {
   "codemirror_mode": {
    "name": "ipython",
    "version": 3
   },
   "file_extension": ".py",
   "mimetype": "text/x-python",
   "name": "python",
   "nbconvert_exporter": "python",
   "pygments_lexer": "ipython3",
   "version": "3.8.10"
  }
 },
 "nbformat": 4,
 "nbformat_minor": 4
}
