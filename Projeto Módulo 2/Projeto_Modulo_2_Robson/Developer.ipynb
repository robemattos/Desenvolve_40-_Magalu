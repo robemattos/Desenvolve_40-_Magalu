{
 "cells": [
  {
   "cell_type": "code",
   "execution_count": 1,
   "metadata": {},
   "outputs": [],
   "source": [
    "import Classes"
   ]
  },
  {
   "cell_type": "code",
   "execution_count": 2,
   "metadata": {},
   "outputs": [],
   "source": [
    "loja1 = Classes.Loja(15)"
   ]
  },
  {
   "cell_type": "code",
   "execution_count": 3,
   "metadata": {},
   "outputs": [],
   "source": [
    "cliente1 = Classes.Cliente()\n",
    "cliente2 = Classes.Cliente()"
   ]
  },
  {
   "cell_type": "code",
   "execution_count": 4,
   "metadata": {},
   "outputs": [],
   "source": [
    "cliente1.locacao(2,'h',loja1)"
   ]
  },
  {
   "cell_type": "code",
   "execution_count": 5,
   "metadata": {},
   "outputs": [],
   "source": [
    "cliente2.locacao(3,'d',loja1)"
   ]
  },
  {
   "cell_type": "code",
   "execution_count": 6,
   "metadata": {},
   "outputs": [
    {
     "name": "stdout",
     "output_type": "stream",
     "text": [
      "\n",
      "            Bicicletas Alugadas: 2\n",
      "            Bicicletas Disponíveis: 13\n",
      "            Tipo de Locação: Hora\n",
      "            Valor da Locação por Bicicleta: 5\n"
     ]
    }
   ],
   "source": [
    "loja1.recebe_locacao(cliente1)"
   ]
  },
  {
   "cell_type": "code",
   "execution_count": 7,
   "metadata": {},
   "outputs": [
    {
     "name": "stdout",
     "output_type": "stream",
     "text": [
      "\n",
      "            Bicicletas Alugadas: 3\n",
      "            Bicicletas Disponíveis: 10\n",
      "            Tipo de Locação: Dia\n",
      "            Valor da Locação por Bicicleta: 25\n"
     ]
    }
   ],
   "source": [
    "loja1.recebe_locacao(cliente2)"
   ]
  },
  {
   "cell_type": "code",
   "execution_count": 8,
   "metadata": {},
   "outputs": [],
   "source": [
    "loja1.devolve_locacao(cliente1)"
   ]
  },
  {
   "cell_type": "code",
   "execution_count": 9,
   "metadata": {},
   "outputs": [],
   "source": [
    "loja1.devolve_locacao(cliente2)"
   ]
  },
  {
   "cell_type": "code",
   "execution_count": 10,
   "metadata": {},
   "outputs": [
    {
     "name": "stdout",
     "output_type": "stream",
     "text": [
      "\n",
      "    Bicicletas Devolvidas: 2\n",
      "    Bicicletas Disponíveis: 15\n",
      "    Tipo de Locação: Hora\n",
      "    Período de Locação: 4\n",
      "    Valor da Locação: 5\n",
      "    Valor do aluguel: 40\n"
     ]
    }
   ],
   "source": [
    "loja1.calcula_conta(cliente1)"
   ]
  },
  {
   "cell_type": "code",
   "execution_count": 11,
   "metadata": {},
   "outputs": [
    {
     "name": "stdout",
     "output_type": "stream",
     "text": [
      "\n",
      "    Bicicletas Devolvidas: 3\n",
      "    Bicicletas Disponíveis: 15\n",
      "    Tipo de Locação: Dia\n",
      "    Período de Locação: 2\n",
      "    Valor da Locação: 25\n",
      "    Valor do aluguel: 105.0\n"
     ]
    }
   ],
   "source": [
    "loja1.calcula_conta(cliente2)"
   ]
  }
 ],
 "metadata": {
  "interpreter": {
   "hash": "916dbcbb3f70747c44a77c7bcd40155683ae19c65e1c03b4aa3499c5328201f1"
  },
  "kernelspec": {
   "display_name": "Python 3.8.10 64-bit",
   "language": "python",
   "name": "python3"
  },
  "language_info": {
   "codemirror_mode": {
    "name": "ipython",
    "version": 3
   },
   "file_extension": ".py",
   "mimetype": "text/x-python",
   "name": "python",
   "nbconvert_exporter": "python",
   "pygments_lexer": "ipython3",
   "version": "3.8.10"
  },
  "orig_nbformat": 4
 },
 "nbformat": 4,
 "nbformat_minor": 2
}
