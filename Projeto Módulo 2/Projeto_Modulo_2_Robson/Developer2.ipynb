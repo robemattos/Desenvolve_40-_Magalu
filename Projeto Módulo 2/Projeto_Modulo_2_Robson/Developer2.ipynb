{
 "cells": [
  {
   "cell_type": "code",
   "execution_count": 1,
   "metadata": {},
   "outputs": [],
   "source": [
    "import Classe_Cliente\n",
    "import Classe_Loja"
   ]
  },
  {
   "cell_type": "code",
   "execution_count": 2,
   "metadata": {},
   "outputs": [],
   "source": [
    "Robson = Classe_Cliente.Cliente()"
   ]
  },
  {
   "cell_type": "code",
   "execution_count": 3,
   "metadata": {},
   "outputs": [],
   "source": [
    "Betania = Classe_Cliente.Cliente()"
   ]
  },
  {
   "cell_type": "code",
   "execution_count": 4,
   "metadata": {},
   "outputs": [],
   "source": [
    "BikeLoc = Classe_Loja.Loja(15)"
   ]
  },
  {
   "cell_type": "code",
   "execution_count": 5,
   "metadata": {},
   "outputs": [],
   "source": [
    "SuperBike = Classe_Loja.Loja(10)"
   ]
  },
  {
   "cell_type": "code",
   "execution_count": 6,
   "metadata": {},
   "outputs": [],
   "source": [
    "Robson.locacao(2,'h',BikeLoc)"
   ]
  },
  {
   "cell_type": "code",
   "execution_count": 7,
   "metadata": {},
   "outputs": [],
   "source": [
    "Betania.locacao(2,'d',SuperBike)"
   ]
  },
  {
   "cell_type": "code",
   "execution_count": 8,
   "metadata": {},
   "outputs": [
    {
     "name": "stdout",
     "output_type": "stream",
     "text": [
      "\n",
      "            Bicicletas Alugadas: 2\n",
      "            Bicicletas Disponíveis: 13\n",
      "            Tipo de Locação: Hora\n",
      "            Valor da Locação por Bicicleta: 5\n"
     ]
    }
   ],
   "source": [
    "BikeLoc.recebe_locacao(Robson)"
   ]
  },
  {
   "cell_type": "code",
   "execution_count": 9,
   "metadata": {},
   "outputs": [
    {
     "name": "stdout",
     "output_type": "stream",
     "text": [
      "\n",
      "            Bicicletas Alugadas: 2\n",
      "            Bicicletas Disponíveis: 8\n",
      "            Tipo de Locação: Dia\n",
      "            Valor da Locação por Bicicleta: 25\n"
     ]
    }
   ],
   "source": [
    "SuperBike.recebe_locacao(Betania)"
   ]
  },
  {
   "cell_type": "code",
   "execution_count": 10,
   "metadata": {},
   "outputs": [],
   "source": [
    "BikeLoc.devolve_locacao(Robson)"
   ]
  },
  {
   "cell_type": "code",
   "execution_count": 13,
   "metadata": {},
   "outputs": [
    {
     "name": "stdout",
     "output_type": "stream",
     "text": [
      "\n",
      "    Bicicletas Devolvidas: 2\n",
      "    Bicicletas Disponíveis: 15\n",
      "    Tipo de Locação: Hora\n",
      "    Período de Locação: 2\n",
      "    Valor da Locação: 5\n",
      "    Valor do aluguel: 20\n"
     ]
    }
   ],
   "source": [
    "BikeLoc.calcula_conta(Robson)"
   ]
  },
  {
   "cell_type": "code",
   "execution_count": 11,
   "metadata": {},
   "outputs": [],
   "source": [
    "SuperBike.devolve_locacao(Betania)"
   ]
  },
  {
   "cell_type": "code",
   "execution_count": 12,
   "metadata": {},
   "outputs": [
    {
     "name": "stdout",
     "output_type": "stream",
     "text": [
      "\n",
      "    Bicicletas Devolvidas: 2\n",
      "    Bicicletas Disponíveis: 10\n",
      "    Tipo de Locação: Dia\n",
      "    Período de Locação: 1\n",
      "    Valor da Locação: 25\n",
      "    Valor do aluguel: 50\n"
     ]
    }
   ],
   "source": [
    "SuperBike.calcula_conta(Betania)"
   ]
  },
  {
   "cell_type": "code",
   "execution_count": 14,
   "metadata": {},
   "outputs": [
    {
     "data": {
      "text/plain": [
       "{'estoque': 10,\n",
       " 'bic_alugadas': 0,\n",
       " 'cliente': <Classe_Cliente.Cliente at 0x7fd18adc4d90>,\n",
       " 'qtd_bic': 2,\n",
       " 'aux_bic_alugadas': 2,\n",
       " 'dt_devolucao': datetime.datetime(2022, 2, 22, 22, 55, 8, 202514),\n",
       " 'periodo': 1,\n",
       " 'valor_aluguel': 50}"
      ]
     },
     "execution_count": 14,
     "metadata": {},
     "output_type": "execute_result"
    }
   ],
   "source": [
    "vars(SuperBike)"
   ]
  },
  {
   "cell_type": "code",
   "execution_count": 15,
   "metadata": {},
   "outputs": [
    {
     "data": {
      "text/plain": [
       "{'estoque': 15,\n",
       " 'bic_alugadas': 0,\n",
       " 'cliente': <Classe_Cliente.Cliente at 0x7fd18add0280>,\n",
       " 'qtd_bic': 2,\n",
       " 'aux_bic_alugadas': 2,\n",
       " 'dt_devolucao': datetime.datetime(2022, 2, 22, 22, 55, 8, 202514),\n",
       " 'periodo': 2,\n",
       " 'valor_aluguel': 20}"
      ]
     },
     "execution_count": 15,
     "metadata": {},
     "output_type": "execute_result"
    }
   ],
   "source": [
    "vars(BikeLoc)"
   ]
  }
 ],
 "metadata": {
  "interpreter": {
   "hash": "916dbcbb3f70747c44a77c7bcd40155683ae19c65e1c03b4aa3499c5328201f1"
  },
  "kernelspec": {
   "display_name": "Python 3.8.10 64-bit",
   "language": "python",
   "name": "python3"
  },
  "language_info": {
   "codemirror_mode": {
    "name": "ipython",
    "version": 3
   },
   "file_extension": ".py",
   "mimetype": "text/x-python",
   "name": "python",
   "nbconvert_exporter": "python",
   "pygments_lexer": "ipython3",
   "version": "3.8.10"
  },
  "orig_nbformat": 4
 },
 "nbformat": 4,
 "nbformat_minor": 2
}
