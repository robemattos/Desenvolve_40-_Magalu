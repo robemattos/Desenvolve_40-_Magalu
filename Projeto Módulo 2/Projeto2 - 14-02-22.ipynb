{
 "cells": [
  {
   "cell_type": "code",
   "execution_count": 57,
   "metadata": {},
   "outputs": [],
   "source": [
    "class Loja:\n",
    "    def __init__(self, estoque, tipo_locacao):\n",
    "        self.estoque = estoque\n",
    "        if tipo_locacao == 'H':\n",
    "            self.tipo_locacao = 'Hora'\n",
    "            self.valor_locacao = 5\n",
    "        elif tipo_locacao == 'D':\n",
    "            self.tipo_locacao = 'Dia'\n",
    "            self.valor_locacao = 25\n",
    "        elif tipo_locacao == 'S':\n",
    "            self.tipo_locacao = 'Semana'\n",
    "            self.valor_locacao = 100\n",
    "        else:\n",
    "            print('Tipo de locação inválido!')\n",
    "\n",
    "    def recebe_locacao(self, qtd_bic, periodo):\n",
    "       \n",
    "        self.periodo = periodo\n",
    "        self.qtd_bic = qtd_bic\n",
    "        self.estoque -= qtd_bic\n",
    "        \n",
    "    def calcula_conta(self):\n",
    "        self.valor_aluguel = (self.valor_locacao * self.qtd_bic) * self.periodo\n",
    "        return self.valor_aluguel\n",
    "\n"
   ]
  },
  {
   "cell_type": "code",
   "execution_count": 62,
   "metadata": {},
   "outputs": [
    {
     "data": {
      "text/plain": [
       "{'estoque': 10, 'tipo_locacao': 'Semana', 'valor_locacao': 100}"
      ]
     },
     "execution_count": 62,
     "metadata": {},
     "output_type": "execute_result"
    }
   ],
   "source": [
    "minha_loja = Loja(10, 'S')\n",
    "vars(minha_loja)\n"
   ]
  },
  {
   "cell_type": "code",
   "execution_count": 74,
   "metadata": {},
   "outputs": [
    {
     "data": {
      "text/plain": [
       "{'estoque': 9,\n",
       " 'tipo_locacao': 'Semana',\n",
       " 'valor_locacao': 100,\n",
       " 'periodo': 2,\n",
       " 'qtd_bic': 1,\n",
       " 'valor_aluguel': 200}"
      ]
     },
     "execution_count": 74,
     "metadata": {},
     "output_type": "execute_result"
    }
   ],
   "source": [
    "minha_locacao = Loja(10, 'S')\n",
    "\n",
    "minha_locacao.recebe_locacao(1, 2)\n",
    "\n",
    "minha_locacao.calcula_conta()\n",
    "\n",
    "vars(minha_locacao)\n"
   ]
  },
  {
   "cell_type": "code",
   "execution_count": null,
   "metadata": {},
   "outputs": [
    {
     "data": {
      "text/plain": [
       "{'estoque': 8,\n",
       " 'valor_locacao': 5,\n",
       " 'tipo_locacao': 'Hora',\n",
       " 'periodo': 8,\n",
       " 'qtd_bic': 2}"
      ]
     },
     "execution_count": 17,
     "metadata": {},
     "output_type": "execute_result"
    }
   ],
   "source": [
    "vars(minha_locacao)"
   ]
  },
  {
   "cell_type": "code",
   "execution_count": null,
   "metadata": {},
   "outputs": [
    {
     "data": {
      "text/plain": [
       "{'estoque': 8,\n",
       " 'valor_locacao': 5,\n",
       " 'tipo_locacao': 'Hora',\n",
       " 'periodo': 8,\n",
       " 'qtd_bic': 2,\n",
       " 'valor_aluguel': 80}"
      ]
     },
     "execution_count": 35,
     "metadata": {},
     "output_type": "execute_result"
    }
   ],
   "source": [
    "minha_locacao.calcula_conta()\n",
    "\n",
    "vars(minha_locacao)"
   ]
  }
 ],
 "metadata": {
  "interpreter": {
   "hash": "916dbcbb3f70747c44a77c7bcd40155683ae19c65e1c03b4aa3499c5328201f1"
  },
  "kernelspec": {
   "display_name": "Python 3.8.10 64-bit",
   "language": "python",
   "name": "python3"
  },
  "language_info": {
   "codemirror_mode": {
    "name": "ipython",
    "version": 3
   },
   "file_extension": ".py",
   "mimetype": "text/x-python",
   "name": "python",
   "nbconvert_exporter": "python",
   "pygments_lexer": "ipython3",
   "version": "3.8.10"
  },
  "orig_nbformat": 4
 },
 "nbformat": 4,
 "nbformat_minor": 2
}
