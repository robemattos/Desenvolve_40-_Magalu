{
 "cells": [
  {
   "cell_type": "code",
   "execution_count": 263,
   "metadata": {},
   "outputs": [],
   "source": [
    "import datetime\n",
    "import math\n",
    "\n",
    "class Cliente:\n",
    "\n",
    "    def locacao(self, qtd_bic, tipo_locacao, loja):\n",
    "        self.qtd_bic = qtd_bic\n",
    "        self.tipo_locacao = tipo_locacao\n",
    "        self.loja = loja\n",
    "        self.dt_inicio = datetime.datetime.today()\n",
    "        \n",
    "        if self.tipo_locacao == 'h' or self.tipo_locacao == 'H':\n",
    "            self.tipo_locacao = 'Hora'\n",
    "            self.valor_locacao = 5\n",
    "        elif self.tipo_locacao == 'd' or self.tipo_locacao == 'D':\n",
    "            self.tipo_locacao = 'Dia'\n",
    "            self.valor_locacao = 25\n",
    "        elif self.tipo_locacao == 's' or self.tipo_locacao == 'S':\n",
    "            self.tipo_locacao = 'Semana'\n",
    "            self.valor_locacao = 100\n",
    "        else:\n",
    "            print('Tipo de locação inválido.')\n",
    "\n",
    "class Loja:\n",
    "    def __init__(self, estoque):\n",
    "        self.estoque = estoque\n",
    "        self.bic_alugadas = 0\n",
    "        \n",
    "    def recebe_locacao(self, cliente):\n",
    "        self.cliente = cliente\n",
    "        \n",
    "        if self.estoque >= self.cliente.qtd_bic:\n",
    "            self.qtd_bic = self.cliente.qtd_bic\n",
    "            self.estoque -= self.cliente.qtd_bic\n",
    "            self.bic_alugadas += self.cliente.qtd_bic\n",
    "            self.aux_bic_alugadas = self.bic_alugadas\n",
    "        else:\n",
    "            print('Quantidade de bicicletas insuficiente.')\n",
    "\n",
    "    def devolve_locacao(self, cliente):\n",
    "        self.cliente = cliente\n",
    "        self.estoque += self.cliente.qtd_bic\n",
    "        self.bic_alugadas -= self.cliente.qtd_bic\n",
    "        self.dt_devolucao = datetime.datetime.today()\n",
    "        \n",
    "    def calcula_conta(self, cliente):\n",
    "        self.cliente = cliente\n",
    "        self.periodo = (self.dt_devolucao - self.cliente.dt_inicio)\n",
    "        self.periodo = math.ceil(self.periodo.seconds / 3600)\n",
    "        \n",
    "        if self.cliente.qtd_bic >= 3:\n",
    "            if self.cliente.tipo_locacao == 'Hora':\n",
    "                self.cliente.valor_locacao = 5\n",
    "            elif self.cliente.tipo_locacao == 'Dia':\n",
    "                self.cliente.valor_locacao = 25\n",
    "            elif self.cliente.tipo_locacao == 'Semana':\n",
    "                self.cliente.valor_locacao = 100\n",
    "            \n",
    "            self.valor_aluguel = (self.cliente.valor_locacao * (self.qtd_bic * self.periodo))\n",
    "            self.valor_aluguel -= self.valor_aluguel * 0.3\n",
    "            #return self.valor_aluguel\n",
    "\n",
    "        else:    \n",
    "            self.valor_aluguel = self.cliente.valor_locacao * (self.qtd_bic * self.periodo)\n",
    "            #return self.valor_aluguel\n",
    "\n",
    "        print(f'''\n",
    "    Bicicletas Devolvidas: {self.aux_bic_alugadas}\n",
    "    Bicicletas Disponíveis: {self.estoque}\n",
    "    Tipo de Locação: {self.cliente.tipo_locacao}\n",
    "    Período de Locação: {self.periodo}\n",
    "    Valor da Locação: {self.cliente.valor_locacao}\n",
    "    Valor do aluguel: {self.valor_aluguel}''')\n",
    "    aux_bic_alugadas = 0\n",
    "\n",
    "    def __repr__(self):\n",
    "        return f'''\n",
    "    Bicicletas Disponíveis: {self.estoque}\n",
    "    Bicicletas Alugadas: {self.bic_alugadas}\n",
    "    Tipo de Locação: {self.cliente.tipo_locacao}\n",
    "    Período de Locação: {self.periodo}\n",
    "    Valor da Locação: {self.valor_locacao}\n",
    "    Valor do aluguel: {self.valor_aluguel}'''"
   ]
  },
  {
   "cell_type": "code",
   "execution_count": 264,
   "metadata": {},
   "outputs": [
    {
     "data": {
      "text/plain": [
       "{'estoque': 15, 'bic_alugadas': 0}"
      ]
     },
     "execution_count": 264,
     "metadata": {},
     "output_type": "execute_result"
    }
   ],
   "source": [
    "loja1 = Loja(15)\n",
    "vars(loja1)"
   ]
  },
  {
   "cell_type": "code",
   "execution_count": 265,
   "metadata": {},
   "outputs": [],
   "source": [
    "cli_Robson = Cliente()\n",
    "cli_Robson.locacao(12,'d',loja1)\n"
   ]
  },
  {
   "cell_type": "code",
   "execution_count": 266,
   "metadata": {},
   "outputs": [],
   "source": [
    "loja1.recebe_locacao(cli_Robson)\n"
   ]
  },
  {
   "cell_type": "code",
   "execution_count": 267,
   "metadata": {},
   "outputs": [],
   "source": [
    "loja1.devolve_locacao(cli_Robson)\n"
   ]
  },
  {
   "cell_type": "code",
   "execution_count": 268,
   "metadata": {},
   "outputs": [
    {
     "data": {
      "text/plain": [
       "23.99972222222222"
      ]
     },
     "execution_count": 268,
     "metadata": {},
     "output_type": "execute_result"
    }
   ],
   "source": [
    "periodo = (cli_Robson.dt_inicio - loja1.dt_devolucao)\n",
    "\n",
    "periodo.seconds / 3600"
   ]
  },
  {
   "cell_type": "code",
   "execution_count": 269,
   "metadata": {},
   "outputs": [
    {
     "name": "stdout",
     "output_type": "stream",
     "text": [
      "\n",
      "    Bicicletas Devolvidas: 12\n",
      "    Bicicletas Disponíveis: 15\n",
      "    Tipo de Locação: Dia\n",
      "    Período de Locação: 0\n",
      "    Valor da Locação: 25\n",
      "    Valor do aluguel: 0.0\n"
     ]
    }
   ],
   "source": [
    "loja1.calcula_conta(cli_Robson)\n"
   ]
  },
  {
   "cell_type": "code",
   "execution_count": 270,
   "metadata": {},
   "outputs": [
    {
     "data": {
      "text/plain": [
       "{'estoque': 15,\n",
       " 'bic_alugadas': 0,\n",
       " 'cliente': <__main__.Cliente at 0x7ff9c63a3430>,\n",
       " 'qtd_bic': 12,\n",
       " 'aux_bic_alugadas': 12,\n",
       " 'dt_devolucao': datetime.datetime(2022, 2, 20, 17, 31, 22, 668854),\n",
       " 'periodo': 0,\n",
       " 'valor_aluguel': 0.0}"
      ]
     },
     "execution_count": 270,
     "metadata": {},
     "output_type": "execute_result"
    }
   ],
   "source": [
    "vars(loja1)"
   ]
  },
  {
   "cell_type": "code",
   "execution_count": 271,
   "metadata": {},
   "outputs": [
    {
     "data": {
      "text/plain": [
       "datetime.datetime(2022, 2, 20, 17, 31, 23, 669075)"
      ]
     },
     "execution_count": 271,
     "metadata": {},
     "output_type": "execute_result"
    }
   ],
   "source": [
    "dt_inicio = datetime.datetime.today()\n",
    "\n",
    "dt_inicio"
   ]
  },
  {
   "cell_type": "code",
   "execution_count": 272,
   "metadata": {},
   "outputs": [
    {
     "data": {
      "text/plain": [
       "datetime.datetime(2022, 2, 20, 17, 31, 23, 926060)"
      ]
     },
     "execution_count": 272,
     "metadata": {},
     "output_type": "execute_result"
    }
   ],
   "source": [
    "dt_devolucao = (datetime.datetime.today())\n",
    "\n",
    "dt_devolucao"
   ]
  },
  {
   "cell_type": "code",
   "execution_count": 273,
   "metadata": {},
   "outputs": [
    {
     "data": {
      "text/plain": [
       "datetime.timedelta(microseconds=256985)"
      ]
     },
     "execution_count": 273,
     "metadata": {},
     "output_type": "execute_result"
    }
   ],
   "source": [
    "periodo = dt_devolucao - dt_inicio\n",
    "\n",
    "periodo"
   ]
  }
 ],
 "metadata": {
  "interpreter": {
   "hash": "916dbcbb3f70747c44a77c7bcd40155683ae19c65e1c03b4aa3499c5328201f1"
  },
  "kernelspec": {
   "display_name": "Python 3.8.10 64-bit",
   "language": "python",
   "name": "python3"
  },
  "language_info": {
   "codemirror_mode": {
    "name": "ipython",
    "version": 3
   },
   "file_extension": ".py",
   "mimetype": "text/x-python",
   "name": "python",
   "nbconvert_exporter": "python",
   "pygments_lexer": "ipython3",
   "version": "3.8.10"
  },
  "orig_nbformat": 4
 },
 "nbformat": 4,
 "nbformat_minor": 2
}
