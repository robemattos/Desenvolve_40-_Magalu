{
 "cells": [
  {
   "cell_type": "code",
   "execution_count": 113,
   "metadata": {},
   "outputs": [],
   "source": [
    "import datetime\n",
    "import math\n",
    "\n",
    "class Cliente:\n",
    "\n",
    "    def locacao(self, qtd_bic, tipo_locacao, loja):\n",
    "        self.qtd_bic = qtd_bic\n",
    "        self.tipo_locacao = tipo_locacao\n",
    "        self.loja = loja\n",
    "        self.dt_inicio = datetime.datetime(2022, 2, 20, 18, 55, 8, 202514) #datetime.datetime.today()\n",
    "        \n",
    "        if self.tipo_locacao == 'h' or self.tipo_locacao == 'H':\n",
    "            self.tipo_locacao = 'Hora'\n",
    "            self.valor_locacao = 5\n",
    "        elif self.tipo_locacao == 'd' or self.tipo_locacao == 'D':\n",
    "            self.tipo_locacao = 'Dia'\n",
    "            self.valor_locacao = 25\n",
    "        elif self.tipo_locacao == 's' or self.tipo_locacao == 'S':\n",
    "            self.tipo_locacao = 'Semana'\n",
    "            self.valor_locacao = 100\n",
    "        else:\n",
    "            print('Tipo de locação inválido.')\n",
    "\n",
    "class Loja:\n",
    "    def __init__(self, estoque):\n",
    "        self.estoque = estoque\n",
    "        self.bic_alugadas = 0\n",
    "        \n",
    "    def recebe_locacao(self, cliente):\n",
    "        self.cliente = cliente\n",
    "        \n",
    "        if self.estoque >= self.cliente.qtd_bic:\n",
    "            self.qtd_bic = self.cliente.qtd_bic\n",
    "            self.estoque -= self.cliente.qtd_bic\n",
    "            self.bic_alugadas += self.cliente.qtd_bic\n",
    "            self.aux_bic_alugadas = self.cliente.qtd_bic\n",
    "\n",
    "            print(f'''\n",
    "            Bicicletas Alugadas: {self.cliente.qtd_bic}\n",
    "            Bicicletas Disponíveis: {self.estoque}\n",
    "            Tipo de Locação: {self.cliente.tipo_locacao}\n",
    "            Valor da Locação por Bicicleta: {self.cliente.valor_locacao}''')\n",
    "        else:\n",
    "            print('Quantidade de bicicletas insuficiente.')\n",
    "\n",
    "    def devolve_locacao(self, cliente):\n",
    "        self.cliente = cliente\n",
    "        self.estoque += self.cliente.qtd_bic\n",
    "        self.bic_alugadas -= self.cliente.qtd_bic\n",
    "        self.dt_devolucao = datetime.datetime(2022, 2, 20,22, 55, 8, 202514) #datetime.datetime.today()\n",
    "        \n",
    "    def calcula_conta(self, cliente):\n",
    "        self.cliente = cliente\n",
    "        self.periodo = (self.dt_devolucao - self.cliente.dt_inicio)\n",
    "        if self.cliente.tipo_locacao == 'Hora':\n",
    "            #self.periodo = math.ceil(self.periodo.hour)\n",
    "            self.periodo = math.ceil(self.periodo.seconds / 3600)\n",
    "        elif self.cliente.tipo_locacao == 'Dia':\n",
    "            self.periodo = math.ceil(self.periodo.days)\n",
    "        elif self.cliente.tipo_locacao == 'Semana':\n",
    "            self.periodo = math.ceil(self.periodo.days) / 7\n",
    "        \n",
    "        if self.cliente.qtd_bic >= 3:\n",
    "            self.valor_aluguel = (self.cliente.valor_locacao * (self.cliente.qtd_bic * self.periodo))\n",
    "            self.valor_aluguel -= self.valor_aluguel * 0.3\n",
    "            #return self.valor_aluguel\n",
    "\n",
    "        else:    \n",
    "            self.valor_aluguel = self.cliente.valor_locacao * (self.cliente.qtd_bic * self.periodo)\n",
    "            #return self.valor_aluguel\n",
    "\n",
    "        print(f'''\n",
    "    Bicicletas Devolvidas: {self.cliente.qtd_bic}\n",
    "    Bicicletas Disponíveis: {self.estoque}\n",
    "    Tipo de Locação: {self.cliente.tipo_locacao}\n",
    "    Período de Locação: {self.periodo}\n",
    "    Valor da Locação: {self.cliente.valor_locacao}\n",
    "    Valor do aluguel: {self.valor_aluguel}''')\n",
    "    aux_bic_alugadas = 0\n"
   ]
  },
  {
   "cell_type": "code",
   "execution_count": 119,
   "metadata": {},
   "outputs": [
    {
     "data": {
      "text/plain": [
       "{'estoque': 15, 'bic_alugadas': 0}"
      ]
     },
     "execution_count": 119,
     "metadata": {},
     "output_type": "execute_result"
    }
   ],
   "source": [
    "loja1 = Loja(15)\n",
    "vars(loja1)"
   ]
  },
  {
   "cell_type": "code",
   "execution_count": 120,
   "metadata": {},
   "outputs": [],
   "source": [
    "cli_Robson = Cliente()\n",
    "cli_Robson.locacao(3,'h',loja1)\n"
   ]
  },
  {
   "cell_type": "code",
   "execution_count": 121,
   "metadata": {},
   "outputs": [
    {
     "name": "stdout",
     "output_type": "stream",
     "text": [
      "\n",
      "            Bicicletas Alugadas: 3\n",
      "            Bicicletas Disponíveis: 12\n",
      "            Tipo de Locação: Hora\n",
      "            Valor da Locação por Bicicleta: 5\n"
     ]
    }
   ],
   "source": [
    "loja1.recebe_locacao(cli_Robson)\n",
    "\n"
   ]
  },
  {
   "cell_type": "code",
   "execution_count": 122,
   "metadata": {},
   "outputs": [],
   "source": [
    "loja1.devolve_locacao(cli_Robson)\n"
   ]
  },
  {
   "cell_type": "code",
   "execution_count": 123,
   "metadata": {},
   "outputs": [
    {
     "name": "stdout",
     "output_type": "stream",
     "text": [
      "\n",
      "    Bicicletas Devolvidas: 3\n",
      "    Bicicletas Disponíveis: 15\n",
      "    Tipo de Locação: Hora\n",
      "    Período de Locação: 4\n",
      "    Valor da Locação: 5\n",
      "    Valor do aluguel: 42.0\n"
     ]
    }
   ],
   "source": [
    "loja1.calcula_conta(cli_Robson)\n"
   ]
  },
  {
   "cell_type": "code",
   "execution_count": null,
   "metadata": {},
   "outputs": [
    {
     "ename": "AttributeError",
     "evalue": "'datetime.timedelta' object has no attribute 'day'",
     "output_type": "error",
     "traceback": [
      "\u001b[0;31m---------------------------------------------------------------------------\u001b[0m",
      "\u001b[0;31mAttributeError\u001b[0m                            Traceback (most recent call last)",
      "\u001b[0;32m/tmp/ipykernel_17533/1700483944.py\u001b[0m in \u001b[0;36m<module>\u001b[0;34m\u001b[0m\n\u001b[0;32m----> 1\u001b[0;31m \u001b[0mloja1\u001b[0m\u001b[0;34m.\u001b[0m\u001b[0mcalcula_conta\u001b[0m\u001b[0;34m(\u001b[0m\u001b[0mcli_Betania\u001b[0m\u001b[0;34m)\u001b[0m\u001b[0;34m\u001b[0m\u001b[0;34m\u001b[0m\u001b[0m\n\u001b[0m",
      "\u001b[0;32m/tmp/ipykernel_17533/3009146592.py\u001b[0m in \u001b[0;36mcalcula_conta\u001b[0;34m(self, cliente)\u001b[0m\n\u001b[1;32m     58\u001b[0m             \u001b[0mself\u001b[0m\u001b[0;34m.\u001b[0m\u001b[0mperiodo\u001b[0m \u001b[0;34m=\u001b[0m \u001b[0mmath\u001b[0m\u001b[0;34m.\u001b[0m\u001b[0mceil\u001b[0m\u001b[0;34m(\u001b[0m\u001b[0mself\u001b[0m\u001b[0;34m.\u001b[0m\u001b[0mperiodo\u001b[0m\u001b[0;34m.\u001b[0m\u001b[0mday\u001b[0m\u001b[0;34m)\u001b[0m\u001b[0;34m\u001b[0m\u001b[0;34m\u001b[0m\u001b[0m\n\u001b[1;32m     59\u001b[0m         \u001b[0;32melif\u001b[0m \u001b[0mself\u001b[0m\u001b[0;34m.\u001b[0m\u001b[0mcliente\u001b[0m\u001b[0;34m.\u001b[0m\u001b[0mtipo_locacao\u001b[0m \u001b[0;34m==\u001b[0m \u001b[0;34m'Semana'\u001b[0m\u001b[0;34m:\u001b[0m\u001b[0;34m\u001b[0m\u001b[0;34m\u001b[0m\u001b[0m\n\u001b[0;32m---> 60\u001b[0;31m             \u001b[0mself\u001b[0m\u001b[0;34m.\u001b[0m\u001b[0mperiodo\u001b[0m \u001b[0;34m=\u001b[0m \u001b[0mmath\u001b[0m\u001b[0;34m.\u001b[0m\u001b[0mceil\u001b[0m\u001b[0;34m(\u001b[0m\u001b[0mself\u001b[0m\u001b[0;34m.\u001b[0m\u001b[0mperiodo\u001b[0m\u001b[0;34m.\u001b[0m\u001b[0mday\u001b[0m\u001b[0;34m)\u001b[0m \u001b[0;34m/\u001b[0m \u001b[0;36m7\u001b[0m\u001b[0;34m\u001b[0m\u001b[0;34m\u001b[0m\u001b[0m\n\u001b[0m\u001b[1;32m     61\u001b[0m \u001b[0;34m\u001b[0m\u001b[0m\n\u001b[1;32m     62\u001b[0m         \u001b[0;32mif\u001b[0m \u001b[0mself\u001b[0m\u001b[0;34m.\u001b[0m\u001b[0mcliente\u001b[0m\u001b[0;34m.\u001b[0m\u001b[0mqtd_bic\u001b[0m \u001b[0;34m>=\u001b[0m \u001b[0;36m3\u001b[0m\u001b[0;34m:\u001b[0m\u001b[0;34m\u001b[0m\u001b[0;34m\u001b[0m\u001b[0m\n",
      "\u001b[0;31mAttributeError\u001b[0m: 'datetime.timedelta' object has no attribute 'day'"
     ]
    }
   ],
   "source": [
    "loja1.calcula_conta(cli_Betania)"
   ]
  },
  {
   "cell_type": "code",
   "execution_count": null,
   "metadata": {},
   "outputs": [
    {
     "name": "stdout",
     "output_type": "stream",
     "text": [
      "\n",
      "    Bicicletas Devolvidas: 3\n",
      "    Bicicletas Disponíveis: 15\n",
      "    Tipo de Locação: Hora\n",
      "    Período de Locação: 0\n",
      "    Valor da Locação: 5\n",
      "    Valor do aluguel: 0.0\n"
     ]
    }
   ],
   "source": [
    "datetime.datetime.minu"
   ]
  },
  {
   "cell_type": "code",
   "execution_count": null,
   "metadata": {},
   "outputs": [
    {
     "name": "stdout",
     "output_type": "stream",
     "text": [
      "\n",
      "    Bicicletas Devolvidas: 3\n",
      "    Bicicletas Disponíveis: 15\n",
      "    Tipo de Locação: Dia\n",
      "    Período de Locação: 0\n",
      "    Valor da Locação: 25\n",
      "    Valor do aluguel: 0.0\n"
     ]
    }
   ],
   "source": [
    "loja1.calcula_conta(cli_Susana)\n"
   ]
  },
  {
   "cell_type": "code",
   "execution_count": null,
   "metadata": {},
   "outputs": [
    {
     "data": {
      "text/plain": [
       "{'estoque': 15,\n",
       " 'bic_alugadas': 0,\n",
       " 'cliente': <__main__.Cliente at 0x7f8891279f70>,\n",
       " 'qtd_bic': 3,\n",
       " 'aux_bic_alugadas': 3,\n",
       " 'dt_devolucao': datetime.datetime(2022, 2, 20, 18, 55, 7, 83925),\n",
       " 'periodo': 0,\n",
       " 'valor_aluguel': 0.0}"
      ]
     },
     "execution_count": 15,
     "metadata": {},
     "output_type": "execute_result"
    }
   ],
   "source": [
    "vars(loja1)"
   ]
  },
  {
   "cell_type": "code",
   "execution_count": null,
   "metadata": {},
   "outputs": [
    {
     "data": {
      "text/plain": [
       "datetime.datetime(2022, 2, 20, 18, 55, 8, 202514)"
      ]
     },
     "execution_count": 16,
     "metadata": {},
     "output_type": "execute_result"
    }
   ],
   "source": [
    "dt_inicio = datetime.datetime.today()\n",
    "\n",
    "dt_inicio"
   ]
  },
  {
   "cell_type": "code",
   "execution_count": null,
   "metadata": {},
   "outputs": [
    {
     "data": {
      "text/plain": [
       "datetime.datetime(2022, 2, 20, 18, 55, 8, 329886)"
      ]
     },
     "execution_count": 17,
     "metadata": {},
     "output_type": "execute_result"
    }
   ],
   "source": [
    "dt_devolucao = (datetime.datetime.today())\n",
    "\n",
    "dt_devolucao"
   ]
  },
  {
   "cell_type": "code",
   "execution_count": null,
   "metadata": {},
   "outputs": [
    {
     "data": {
      "text/plain": [
       "datetime.timedelta(microseconds=127372)"
      ]
     },
     "execution_count": 18,
     "metadata": {},
     "output_type": "execute_result"
    }
   ],
   "source": [
    "periodo = dt_devolucao - dt_inicio\n",
    "\n",
    "periodo"
   ]
  }
 ],
 "metadata": {
  "interpreter": {
   "hash": "916dbcbb3f70747c44a77c7bcd40155683ae19c65e1c03b4aa3499c5328201f1"
  },
  "kernelspec": {
   "display_name": "Python 3.8.10 64-bit",
   "language": "python",
   "name": "python3"
  },
  "language_info": {
   "codemirror_mode": {
    "name": "ipython",
    "version": 3
   },
   "file_extension": ".py",
   "mimetype": "text/x-python",
   "name": "python",
   "nbconvert_exporter": "python",
   "pygments_lexer": "ipython3",
   "version": "3.8.10"
  },
  "orig_nbformat": 4
 },
 "nbformat": 4,
 "nbformat_minor": 2
}
