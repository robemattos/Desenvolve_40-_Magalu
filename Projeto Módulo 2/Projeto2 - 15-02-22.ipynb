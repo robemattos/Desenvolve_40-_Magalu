{
 "cells": [
  {
   "cell_type": "code",
   "execution_count": 427,
   "metadata": {},
   "outputs": [],
   "source": [
    "class Loja:\n",
    "    def __init__(self, estoque):\n",
    "        self.estoque = estoque\n",
    "        self.bic_alugadas = 0\n",
    "\n",
    "    def recebe_locacao(self, qtd_bic, tipo_locacao, periodo):\n",
    "        self.periodo = periodo\n",
    "        self.qtd_bic = qtd_bic\n",
    "        self.qtd_bic_alugadas = 0\n",
    "                        \n",
    "        if tipo_locacao == 'H'or tipo_locacao == 'h':\n",
    "            self.tipo_locacao = 'Hora'\n",
    "            self.valor_locacao = 5\n",
    "        elif tipo_locacao == 'D' or tipo_locacao == 'd':\n",
    "            self.tipo_locacao = 'Dia'\n",
    "            self.valor_locacao = 25\n",
    "        elif tipo_locacao == 'S' or tipo_locacao == 's':\n",
    "            self.tipo_locacao = 'Semana'\n",
    "            self.valor_locacao = 100\n",
    "        else:\n",
    "            print('Tipo de locação inválido!')\n",
    "        \n",
    "        if self.estoque >= qtd_bic:\n",
    "            self.qtd_bic = qtd_bic\n",
    "            self.estoque -= qtd_bic\n",
    "            self.bic_alugadas += qtd_bic\n",
    "        else:\n",
    "            print('Quantidade de bicicletas insuficiente.')\n",
    "                 \n",
    "    def calcula_conta(self):\n",
    "        self.valor_aluguel = self.valor_locacao * (self.qtd_bic * self.periodo)\n",
    "        return self.valor_aluguel\n",
    "\n",
    "    def __repr__(self):\n",
    "        return f'''\n",
    "    Bicicletas Disponíveis: {self.estoque}\n",
    "    Bicicletas Alugadas: {self.bic_alugadas}\n",
    "    Tipo de Locação: {self.tipo_locacao}\n",
    "    Período de Locação: {self.periodo}\n",
    "    Valor da Locação: {self.valor_locacao}\n",
    "    Valor do aluguel: {self.valor_aluguel}'''\n",
    "\n",
    "class Cliente(Loja):\n",
    "    pass\n"
   ]
  },
  {
   "cell_type": "code",
   "execution_count": 428,
   "metadata": {},
   "outputs": [
    {
     "data": {
      "text/plain": [
       "{'estoque': 10, 'bic_alugadas': 0}"
      ]
     },
     "execution_count": 428,
     "metadata": {},
     "output_type": "execute_result"
    }
   ],
   "source": [
    "minha_loja = Loja(10)\n",
    "vars(minha_loja)\n"
   ]
  },
  {
   "cell_type": "code",
   "execution_count": 429,
   "metadata": {},
   "outputs": [
    {
     "name": "stdout",
     "output_type": "stream",
     "text": [
      "\n",
      "    Bicicletas Disponíveis: 4\n",
      "    Bicicletas Alugadas: 6\n",
      "    Tipo de Locação: Semana\n",
      "    Período de Locação: 1\n",
      "    Valor da Locação: 100\n",
      "    Valor do aluguel: 600\n"
     ]
    }
   ],
   "source": [
    "minha_locacao = minha_loja\n",
    "\n",
    "minha_locacao.recebe_locacao(6, 's', 1)\n",
    "\n",
    "minha_locacao.calcula_conta()\n",
    "\n",
    "print(minha_locacao)"
   ]
  },
  {
   "cell_type": "code",
   "execution_count": 430,
   "metadata": {},
   "outputs": [
    {
     "data": {
      "text/plain": [
       "{'estoque': 4,\n",
       " 'bic_alugadas': 6,\n",
       " 'periodo': 1,\n",
       " 'qtd_bic': 6,\n",
       " 'qtd_bic_alugadas': 0,\n",
       " 'tipo_locacao': 'Semana',\n",
       " 'valor_locacao': 100,\n",
       " 'valor_aluguel': 600}"
      ]
     },
     "execution_count": 430,
     "metadata": {},
     "output_type": "execute_result"
    }
   ],
   "source": [
    "vars(minha_locacao)"
   ]
  },
  {
   "cell_type": "code",
   "execution_count": 450,
   "metadata": {},
   "outputs": [
    {
     "name": "stdout",
     "output_type": "stream",
     "text": [
      "\n",
      "    Bicicletas Disponíveis: 10\n",
      "    Bicicletas Alugadas: 0\n",
      "    Tipo de Locação: Hora\n",
      "    Período de Locação: 2\n",
      "    Valor da Locação: 5\n",
      "    Valor do aluguel: 0\n"
     ]
    }
   ],
   "source": [
    "cli_Robson = Cliente(10)\n",
    "\n",
    "cli_Robson.recebe_locacao(0, 'h', 2)\n",
    "\n",
    "cli_Robson.calcula_conta()\n",
    "\n",
    "print(cli_Robson)"
   ]
  },
  {
   "cell_type": "code",
   "execution_count": 446,
   "metadata": {},
   "outputs": [
    {
     "data": {
      "text/plain": [
       "5"
      ]
     },
     "execution_count": 446,
     "metadata": {},
     "output_type": "execute_result"
    }
   ],
   "source": [
    "cli_Robson.estoque"
   ]
  }
 ],
 "metadata": {
  "interpreter": {
   "hash": "916dbcbb3f70747c44a77c7bcd40155683ae19c65e1c03b4aa3499c5328201f1"
  },
  "kernelspec": {
   "display_name": "Python 3.8.10 64-bit",
   "language": "python",
   "name": "python3"
  },
  "language_info": {
   "codemirror_mode": {
    "name": "ipython",
    "version": 3
   },
   "file_extension": ".py",
   "mimetype": "text/x-python",
   "name": "python",
   "nbconvert_exporter": "python",
   "pygments_lexer": "ipython3",
   "version": "3.8.10"
  },
  "orig_nbformat": 4
 },
 "nbformat": 4,
 "nbformat_minor": 2
}
